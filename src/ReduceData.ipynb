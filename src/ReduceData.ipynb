{
 "cells": [
  {
   "cell_type": "markdown",
   "id": "60cb03fa-a18e-419c-b675-2cf4bfbb24b7",
   "metadata": {},
   "source": [
    "# Merge and Reduce Data\n",
    "\n",
    "The below code performs reduction on the raw QMC data that can be downloaded via the [download_QMC_data.ipynb](./download_QMC_data.ipynb) script. Running this is *not* necessary to reproduce the final plots which appear in the paper."
   ]
  },
  {
   "cell_type": "code",
   "execution_count": null,
   "id": "f126fbce",
   "metadata": {},
   "outputs": [],
   "source": [
    "import numpy as np\n",
    "import matplotlib.pyplot as plt\n",
    "import re,glob,os\n",
    "import dgutils\n",
    "from pimcscripts import pimchelp\n",
    "from collections import defaultdict\n",
    "import linecache\n",
    "\n",
    "%config InlineBackend.figure_format = 'svg'\n",
    "%matplotlib inline\n",
    "\n",
    "colors = dgutils.colors.get_linear_colors('Spectral',10)\n",
    "import importlib"
   ]
  },
  {
   "cell_type": "code",
   "execution_count": null,
   "id": "0f573fca-3d2d-4a4f-9ffa-40492c85ecdf",
   "metadata": {},
   "outputs": [],
   "source": [
    "import hg_utils\n",
    "from hg_utils import raw_data_dir, data_dir, lab, base_dir, gnu_parallel, pimc_bin_path"
   ]
  },
  {
   "cell_type": "code",
   "execution_count": null,
   "id": "675d4993",
   "metadata": {},
   "outputs": [],
   "source": [
    "ΔR = [0.0,2.0,3.0,4.0]\n",
    "dirNames = ' '.join([lab(cΔR) for cΔR in ΔR])\n",
    "T = 2.0\n",
    "\n",
    "# user should specify which of these they want to do! \n",
    "run = {'delete_merge':True, 'merge':True, 'reduce':True, 'copy':True}\n",
    "\n",
    "# define some hard-coded PIMCIDs for merged data since we will add some raw data into our github repo\n",
    "pimcid = {}\n",
    "pimcid[lab(0.0)] = 'a48c7b1e-9699-4db5-b21f-f7eaecb6ffec'\n",
    "pimcid[lab(2.0)] = 'c98674cb-9818-4827-8ba2-1a996bca1df0'\n",
    "pimcid[lab(3.0)] = 'b2dcef60-8679-4057-b19a-17bc08d1d397'\n",
    "pimcid[lab(4.0)] = '1e8b4baa-a2a6-46f4-b0b8-955cec5b317f'\n",
    "\n",
    "pimcids = ' '.join([pimcid[lab(cΔR)] for cΔR in ΔR])"
   ]
  },
  {
   "cell_type": "markdown",
   "id": "d2ad2ba7-146b-4a01-898b-ce73000c9544",
   "metadata": {},
   "source": [
    "## Delete the Merged Directory and Re-Generate"
   ]
  },
  {
   "cell_type": "code",
   "execution_count": null,
   "id": "51d3a943",
   "metadata": {},
   "outputs": [],
   "source": [
    "if run['delete_merge']:\n",
    "    for cΔR in ΔR:\n",
    "        dirName = f'{base_dir(cΔR,cylinder=False, raw=True)}'\n",
    "        print(f'Deleting ΔR = {cΔR}: {dirName}')\n",
    "        ! rm -rf $dirName"
   ]
  },
  {
   "cell_type": "markdown",
   "id": "f08a3fb4",
   "metadata": {},
   "source": [
    "## Merge QMC Results over Seeds"
   ]
  },
  {
   "cell_type": "code",
   "execution_count": null,
   "id": "939e3e83",
   "metadata": {},
   "outputs": [],
   "source": [
    "%%time\n",
    "\n",
    "if run['merge']:\n",
    "    merge_command = f\"parallel --link {pimc_bin_path}/merge.py -T {T} --seeds -s 0.5 --label={{1}} {raw_data_dir}/{{2}}/OUTPUT/ ::: {pimcids} ::: {dirNames}\"\n",
    "\n",
    "    stream = os.popen(merge_command)\n",
    "    output = stream.read()\n",
    "    print(output)"
   ]
  },
  {
   "cell_type": "markdown",
   "id": "76ee75fd-b656-42ee-aaa8-c46a74d01ae7",
   "metadata": {},
   "source": [
    "## Reduce QMC Results over Temperature"
   ]
  },
  {
   "cell_type": "code",
   "execution_count": null,
   "id": "436df2ad",
   "metadata": {},
   "outputs": [],
   "source": [
    "%%time\n",
    "\n",
    "if run['reduce']:\n",
    "    reduce_command = f\"parallel {pimc_bin_path}/reduce-one.py -r T -L 100 -u -7.2 {raw_data_dir}/{{}}/OUTPUT/MERGED/CYLINDER/ ::: {dirNames}\"\n",
    "    stream = os.popen(reduce_command)\n",
    "    output = stream.read()\n",
    "    print(output)"
   ]
  },
  {
   "cell_type": "markdown",
   "id": "b470fa64-8daa-4b59-8cc6-a851fe594a2a",
   "metadata": {},
   "source": [
    "## Copy Merged and Reduced Data into Repository"
   ]
  },
  {
   "cell_type": "code",
   "execution_count": null,
   "id": "b19dfa30-10a2-42ca-9379-391427d237cf",
   "metadata": {},
   "outputs": [],
   "source": [
    "if run['copy']:\n",
    "    for cΔR in ΔR:\n",
    "        src_dir = base_dir(cΔR, raw=True)\n",
    "        dest_dir = base_dir(cΔR)\n",
    "        !cp $src_dir/*.dat $dest_dir/ "
   ]
  },
  {
   "cell_type": "markdown",
   "id": "eb4d1b2f-7797-4f5c-8215-769bb18e9e47",
   "metadata": {},
   "source": [
    "## Load and Compress Position Data"
   ]
  },
  {
   "cell_type": "code",
   "execution_count": null,
   "id": "c033a400",
   "metadata": {},
   "outputs": [],
   "source": [
    "match_number = re.compile('-?\\ *[0-9]+\\.?[0-9]*(?:[Ee]\\ *[-+?]\\ *[0-9]+)?')\n",
    "\n",
    "for cΔR in ΔR:\n",
    "    position_file = glob.glob(f'{base_dir(cΔR,cylinder=False, raw=True)}/gce-position-*.dat')[0]\n",
    "    est_info = linecache.getline(position_file, 2)\n",
    "\n",
    "    # get the discretization info\n",
    "    nums = [x for x in re.findall(match_number, est_info)]\n",
    "    _δ = np.array([float(num) for num in nums[:3]])\n",
    "    _num_grid_sep = int(nums[-1])\n",
    "\n",
    "    # load the density and reshape\n",
    "    _ρ = np.loadtxt(position_file).reshape([_num_grid_sep]*3)\n",
    "\n",
    "    # save as a compressed .npz file\n",
    "    np.savez_compressed(f'{base_dir(cΔR,cylinder=False)}/gce-position-{lab(cΔR)}', δ=_δ, ρ=_ρ, num_grid_sep=_num_grid_sep)"
   ]
  }
 ],
 "metadata": {
  "kernelspec": {
   "display_name": "Python 3 (ipykernel)",
   "language": "python",
   "name": "python3"
  },
  "language_info": {
   "codemirror_mode": {
    "name": "ipython",
    "version": 3
   },
   "file_extension": ".py",
   "mimetype": "text/x-python",
   "name": "python",
   "nbconvert_exporter": "python",
   "pygments_lexer": "ipython3",
   "version": "3.9.19"
  }
 },
 "nbformat": 4,
 "nbformat_minor": 5
}
