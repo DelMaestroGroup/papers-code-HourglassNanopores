{
 "cells": [
  {
   "cell_type": "markdown",
   "id": "60cb03fa-a18e-419c-b675-2cf4bfbb24b7",
   "metadata": {},
   "source": [
    "# Merge and Reduce Data"
   ]
  },
  {
   "cell_type": "code",
   "execution_count": 28,
   "id": "f126fbce",
   "metadata": {},
   "outputs": [],
   "source": [
    "import numpy as np\n",
    "import matplotlib.pyplot as plt\n",
    "import re,glob,os\n",
    "import dgutils\n",
    "from pimcscripts import pimchelp\n",
    "from collections import defaultdict\n",
    "import linecache\n",
    "\n",
    "\n",
    "%config InlineBackend.figure_format = 'svg'\n",
    "%matplotlib inline\n",
    "\n",
    "colors = dgutils.colors.get_linear_colors('Spectral',10)\n",
    "\n",
    "from hg_utils import *"
   ]
  },
  {
   "cell_type": "code",
   "execution_count": 31,
   "id": "675d4993",
   "metadata": {},
   "outputs": [],
   "source": [
    "ΔR = [0.0,2.0,3.0,4.0]\n",
    "dirNames = ' '.join([f'dR_eq_{cΔR:3.1f}' for cΔR in ΔR])\n",
    "\n",
    "run = {'delete_merge':True, 'merge':True, 'reduce':True, 'serial':False, 'copy':True}"
   ]
  },
  {
   "cell_type": "markdown",
   "id": "d2ad2ba7-146b-4a01-898b-ce73000c9544",
   "metadata": {},
   "source": [
    "## Delete the Merged Directory and Re-Generate"
   ]
  },
  {
   "cell_type": "code",
   "execution_count": 17,
   "id": "51d3a943",
   "metadata": {},
   "outputs": [
    {
     "name": "stdout",
     "output_type": "stream",
     "text": [
      "Deleting ΔR = 0.0: /lustre/isaac/scratch/agdelma/Projects/HourGlass/w_eq_3.0/dR_eq_0.0/OUTPUT/MERGED\n",
      "Deleting ΔR = 2.0: /lustre/isaac/scratch/agdelma/Projects/HourGlass/w_eq_3.0/dR_eq_2.0/OUTPUT/MERGED\n",
      "Deleting ΔR = 3.0: /lustre/isaac/scratch/agdelma/Projects/HourGlass/w_eq_3.0/dR_eq_3.0/OUTPUT/MERGED\n",
      "Deleting ΔR = 4.0: /lustre/isaac/scratch/agdelma/Projects/HourGlass/w_eq_3.0/dR_eq_4.0/OUTPUT/MERGED\n"
     ]
    }
   ],
   "source": [
    "delete_merge = True\n",
    "\n",
    "if run['delete_merge']:\n",
    "    for cΔR in ΔR:\n",
    "        dirName = f'{base_dir(cΔR,cylinder=False)}'\n",
    "        print(f'Deleting ΔR = {cΔR}: {dirName}')\n",
    "        ! rm -rf $dirName"
   ]
  },
  {
   "cell_type": "markdown",
   "id": "f08a3fb4",
   "metadata": {},
   "source": [
    "## Merge QMC Results over Seeds"
   ]
  },
  {
   "cell_type": "code",
   "execution_count": 19,
   "id": "939e3e83",
   "metadata": {},
   "outputs": [
    {
     "name": "stdout",
     "output_type": "stream",
     "text": [
      "Merged data files:\n",
      "gce-estimator-02.000-100.000--007.200-0.00400-52acb562-1996-4b7e-a2b6-240bba1b9334.dat     42240\n",
      "gce-position-02.000-100.000--007.200-0.00400-52acb562-1996-4b7e-a2b6-240bba1b9334.dat  15813251\n",
      "gce-estimator-02.000-100.000--007.200-0.00400-52acb562-1996-4b7e-a2b6-240bba1b9334.dat     42433\n",
      "gce-linedensity-02.000-100.000--007.200-0.00400-52acb562-1996-4b7e-a2b6-240bba1b9334.dat     42433\n",
      "gce-linepotential-02.000-100.000--007.200-0.00400-52acb562-1996-4b7e-a2b6-240bba1b9334.dat     42433\n",
      "Merged data files:\n",
      "gce-estimator-02.000-100.000--007.200-0.00400-b733d35f-d1da-408f-a2b5-debd7acdbbcf.dat    126143\n",
      "gce-position-02.000-100.000--007.200-0.00400-05c02280-a810-46e5-bff7-84cw3p0dR4p0.dat  15813251\n",
      "gce-estimator-02.000-100.000--007.200-0.00400-b733d35f-d1da-408f-a2b5-debd7acdbbcf.dat    144667\n",
      "gce-linedensity-02.000-100.000--007.200-0.00400-b733d35f-d1da-408f-a2b5-debd7acdbbcf.dat    144667\n",
      "gce-linepotential-02.000-100.000--007.200-0.00400-b733d35f-d1da-408f-a2b5-debd7acdbbcf.dat    144667\n",
      "Merged data files:\n",
      "gce-estimator-02.000-100.000--007.200-0.00400-f6403c6d-a6eb-458e-860f-516619763c3f.dat     71973\n",
      "gce-position-02.000-100.000--007.200-0.00400-f6403c6d-a6eb-458e-860f-516619763c3f.dat  15813251\n",
      "gce-estimator-02.000-100.000--007.200-0.00400-f6403c6d-a6eb-458e-860f-516619763c3f.dat     73301\n",
      "gce-linedensity-02.000-100.000--007.200-0.00400-f6403c6d-a6eb-458e-860f-516619763c3f.dat     73301\n",
      "gce-linepotential-02.000-100.000--007.200-0.00400-f6403c6d-a6eb-458e-860f-516619763c3f.dat     73302\n",
      "Merged data files:\n",
      "gce-estimator-02.000-100.000--007.200-0.00400-84ba9a13-6d5f-43c9-bbba-803a933fb909.dat     62212\n",
      "gce-position-02.000-100.000--007.200-0.00400-84ba9a13-6d5f-43c9-bbba-803a933fb909.dat  15813251\n",
      "gce-estimator-02.000-100.000--007.200-0.00400-84ba9a13-6d5f-43c9-bbba-803a933fb909.dat     62667\n",
      "gce-linedensity-02.000-100.000--007.200-0.00400-84ba9a13-6d5f-43c9-bbba-803a933fb909.dat     62667\n",
      "gce-linepotential-02.000-100.000--007.200-0.00400-84ba9a13-6d5f-43c9-bbba-803a933fb909.dat     62667\n",
      "\n",
      "CPU times: user 4.98 ms, sys: 6.4 ms, total: 11.4 ms\n",
      "Wall time: 6min 9s\n"
     ]
    }
   ],
   "source": [
    "%%time\n",
    "\n",
    "if run['merge']:\n",
    "    merge_command = f\"parallel {pimc_bin_path}/merge.py {data_dir}/{{}}/OUTPUT/ ::: {dirNames}\"\n",
    "    stream = os.popen(merge_command)\n",
    "    output = stream.read()\n",
    "    print(output)"
   ]
  },
  {
   "cell_type": "markdown",
   "id": "76ee75fd-b656-42ee-aaa8-c46a74d01ae7",
   "metadata": {},
   "source": [
    "## Reduce QMC Results over Temperature"
   ]
  },
  {
   "cell_type": "code",
   "execution_count": 20,
   "id": "436df2ad",
   "metadata": {},
   "outputs": [
    {
     "name": "stdout",
     "output_type": "stream",
     "text": [
      "Reduced estimator over 1 Temperature value(s).\n",
      "Reduced linedensity over 1 Temperature value(s).\n",
      "Reduced linepotential over 1 Temperature value(s).\n",
      "Reduced estimator over 1 Temperature value(s).\n",
      "Reduced linedensity over 1 Temperature value(s).\n",
      "Reduced linepotential over 1 Temperature value(s).\n",
      "Reduced estimator over 1 Temperature value(s).\n",
      "Reduced linedensity over 1 Temperature value(s).\n",
      "Reduced linepotential over 1 Temperature value(s).\n",
      "Reduced estimator over 1 Temperature value(s).\n",
      "Reduced linedensity over 1 Temperature value(s).\n",
      "Reduced linepotential over 1 Temperature value(s).\n",
      "\n",
      "CPU times: user 1.75 ms, sys: 1.83 ms, total: 3.58 ms\n",
      "Wall time: 7.05 s\n"
     ]
    }
   ],
   "source": [
    "%%time\n",
    "\n",
    "if run['reduce']:\n",
    "    reduce_command = f\"parallel {pimc_bin_path}/reduce-one.py -r T -L 100 -u -7.2 {data_dir}/{{}}/OUTPUT/MERGED/CYLINDER/ ::: {dirNames}\"\n",
    "    stream = os.popen(reduce_command)\n",
    "    output = stream.read()\n",
    "    print(output)"
   ]
  },
  {
   "cell_type": "markdown",
   "id": "b470fa64-8daa-4b59-8cc6-a851fe594a2a",
   "metadata": {},
   "source": [
    "## Copy Reduced Data into Repository"
   ]
  },
  {
   "cell_type": "code",
   "execution_count": 35,
   "id": "b19dfa30-10a2-42ca-9379-391427d237cf",
   "metadata": {},
   "outputs": [],
   "source": [
    "if run['copy']:\n",
    "    for cΔR in ΔR:\n",
    "        dirName = lab(cΔR)\n",
    "        !cp $data_dir/$dirName/OUTPUT/MERGED/CYLINDER/*-reduce-*.dat ../data/$dirName/CYLINDER/ "
   ]
  },
  {
   "cell_type": "markdown",
   "id": "452c9827",
   "metadata": {},
   "source": [
    "## This is the serial way to do it! "
   ]
  },
  {
   "cell_type": "code",
   "execution_count": 6,
   "id": "59204dfe",
   "metadata": {},
   "outputs": [],
   "source": [
    "%%time\n",
    "if run['serial']:\n",
    "    for cΔR in ΔR:\n",
    "        print(f'Processing ΔR = {cΔR}')\n",
    "\n",
    "        # delete\n",
    "        dirName = f'{base_dir(cΔR,cylinder=False)}'\n",
    "        ! rm -rf $dirName\n",
    "\n",
    "        # merge\n",
    "        dirName = f'{data_dir}/{lab(cΔR)}/OUTPUT/'\n",
    "        %run $pimc_bin_path/merge.py $dirName\n",
    "\n",
    "        # reduce\n",
    "        dirName = f'{base_dir(cΔR)}'\n",
    "        %run $pimc_bin_path/reduce-one.py -r T -L 100 -u -7.2 $dirName"
   ]
  },
  {
   "cell_type": "markdown",
   "id": "eb4d1b2f-7797-4f5c-8215-769bb18e9e47",
   "metadata": {},
   "source": [
    "## Load and Compress Position Data"
   ]
  },
  {
   "cell_type": "code",
   "execution_count": 30,
   "id": "c033a400",
   "metadata": {},
   "outputs": [],
   "source": [
    "match_number = re.compile('-?\\ *[0-9]+\\.?[0-9]*(?:[Ee]\\ *[-+?]\\ *[0-9]+)?')\n",
    "\n",
    "for cΔR in ΔR:\n",
    "    position_file = glob.glob(f'{base_dir(cΔR,cylinder=False)}/gce-position-*.dat')[0]\n",
    "    est_info = linecache.getline(position_file, 2)\n",
    "\n",
    "    # get the discretization info\n",
    "    nums = [x for x in re.findall(match_number, est_info)]\n",
    "    _δ = np.array([float(num) for num in nums[:3]])\n",
    "    _num_grid_sep = int(nums[-1])\n",
    "\n",
    "    # load the density and reshape\n",
    "    _ρ = np.loadtxt(position_file).reshape([_num_grid_sep]*3)\n",
    "\n",
    "    # save as a compressed .npz file\n",
    "    np.savez_compressed(f'../data/{lab(cΔR)}/gce-position-{lab(cΔR)}', δ=_δ, ρ=_ρ, num_grid_sep=_num_grid_sep)"
   ]
  }
 ],
 "metadata": {
  "kernelspec": {
   "display_name": "Python 3 (pimc)",
   "language": "python",
   "name": "pimc"
  },
  "language_info": {
   "codemirror_mode": {
    "name": "ipython",
    "version": 3
   },
   "file_extension": ".py",
   "mimetype": "text/x-python",
   "name": "python",
   "nbconvert_exporter": "python",
   "pygments_lexer": "ipython3",
   "version": "3.9.16"
  }
 },
 "nbformat": 4,
 "nbformat_minor": 5
}
