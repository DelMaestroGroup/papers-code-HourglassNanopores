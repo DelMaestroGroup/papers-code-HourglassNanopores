{
 "cells": [
  {
   "cell_type": "markdown",
   "metadata": {},
   "source": [
    "# LL Transport\n",
    "\n",
    "Load and plot transport data.  Details of computation are discussed in the supplemental material."
   ]
  },
  {
   "cell_type": "code",
   "execution_count": 7,
   "metadata": {},
   "outputs": [],
   "source": [
    "import matplotlib.pyplot as plt\n",
    "import numpy as np\n",
    "from dgutils import colors as col\n",
    "import dgutils\n",
    "\n",
    "import matplotlib.patheffects as path_effects\n",
    "\n",
    "from numpy import pi as π\n",
    "from scipy import integrate\n",
    "from scipy.constants import hbar as ħ\n",
    "from scipy.constants import k\n",
    "from scipy.special import ellipe\n",
    "from scipy.special import ellipk\n",
    "import numpy.ma as ma\n",
    "import os\n",
    "\n",
    "\n",
    "# Notebook display options\n",
    "%config InlineBackend.figure_format = 'svg'\n",
    "\n",
    "# plot style\n",
    "plot_style = {'aps':'../include/aps.mplstyle', 'notebook':'../include/notebook.mplstyle', \n",
    "              'sans':'../include/sans.mplstyle'}\n",
    "plt.style.reload_library()\n",
    "plt.style.use(plot_style['aps'])\n",
    "\n",
    "figsize = plt.rcParams['figure.figsize']\n",
    "\n",
    "π = np.pi\n",
    "colors = plt.rcParams['axes.prop_cycle'].by_key()['color']"
   ]
  },
  {
   "cell_type": "markdown",
   "metadata": {},
   "source": [
    "## Load data from disk\n",
    "\n",
    "This data was generated via Mathematica and can be found in the file `{}.nb`"
   ]
  },
  {
   "cell_type": "code",
   "execution_count": 8,
   "metadata": {},
   "outputs": [],
   "source": [
    "K = [1.1,1.2,1.3,1.5,1.8,2.5]\n",
    "data = {}\n",
    "for cK in K:\n",
    "    Kval = str(cK).replace('.','')\n",
    "    fname = f'plotdata_K_eq_{Kval}.dat'\n",
    "    data[str(cK)] = np.loadtxt(f'../data/{fname}')\n",
    "    \n",
    "Kcolors = dgutils.colors.get_linear_colors('Spectral',len(K))"
   ]
  },
  {
   "cell_type": "code",
   "execution_count": 9,
   "metadata": {},
   "outputs": [
    {
     "name": "stderr",
     "output_type": "stream",
     "text": [
      "TeX  NOT subset; don't know how to subset; dropped\n",
      "'created' timestamp seems very low; regarding as unix timestamp\n",
      "'modified' timestamp seems very low; regarding as unix timestamp\n",
      "'created' timestamp seems very low; regarding as unix timestamp\n",
      "'modified' timestamp seems very low; regarding as unix timestamp\n"
     ]
    }
   ],
   "source": [
    "path_eff = [path_effects.withSimplePatchShadow(offset=(0.06, -0.06), shadow_rgbFace='k', alpha=1.0)]\n",
    "from matplotlib import ticker\n",
    "\n",
    "plt.style.reload_library()\n",
    "with plt.style.context(plot_style['aps']):\n",
    "    fig,ax = plt.subplots(1,1,constrained_layout=True)\n",
    "    factor = [0.99,0.978,0.97,0.96,0.95,0.92]\n",
    "    angle = [7,9,11,13,15,14]\n",
    "    \n",
    "    for i,cK in enumerate(K):\n",
    "        ax.plot(data[str(cK)][:,0],data[str(cK)][:,1],color=Kcolors[i], lw=1)\n",
    "        ax.text(0.20,factor[i]*data[str(cK)][-1,1],f'$K={cK}$', ha='right',va='top', color=Kcolors[i],\n",
    "                              fontsize=8,path_effects=path_eff, rotation=angle[i])\n",
    "    \n",
    "    ax.set_xlim(0,0.199);\n",
    "    ax.set_ylim(0,1.43)\n",
    "    \n",
    "    ax.set_xlabel(r'Temperature   $\\;T a / v$')\n",
    "    ax.set_ylabel(r'Flow Velocity $\\;v_s/v_0$')\n",
    "    \n",
    "    ax.xaxis.set_major_locator(ticker.MultipleLocator(0.05))\n",
    "    plt.savefig('../figures/LL_transport.pdf')\n",
    "    plt.savefig('../figures/LL_transport.svg')"
   ]
  }
 ],
 "metadata": {
  "kernelspec": {
   "display_name": "Python 3 (ipykernel)",
   "language": "python",
   "name": "python3"
  },
  "language_info": {
   "codemirror_mode": {
    "name": "ipython",
    "version": 3
   },
   "file_extension": ".py",
   "mimetype": "text/x-python",
   "name": "python",
   "nbconvert_exporter": "python",
   "pygments_lexer": "ipython3",
   "version": "3.9.19"
  }
 },
 "nbformat": 4,
 "nbformat_minor": 4
}
