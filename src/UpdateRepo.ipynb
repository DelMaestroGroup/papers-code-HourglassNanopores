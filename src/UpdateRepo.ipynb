{
 "cells": [
  {
   "cell_type": "code",
   "execution_count": 4,
   "id": "5dd1ebe6-98f8-4347-a86c-be39c26d48f9",
   "metadata": {},
   "outputs": [
    {
     "name": "stdout",
     "output_type": "stream",
     "text": [
      "On branch main\n",
      "Your branch is up to date with 'origin/main'.\n",
      "\n",
      "Changes not staged for commit:\n",
      "  (use \"git add <file>...\" to update what will be committed)\n",
      "  (use \"git restore <file>...\" to discard changes in working directory)\n",
      "\t\u001b[31mmodified:   DensityAnalysis.ipynb\u001b[m\n",
      "\t\u001b[31mmodified:   HourGlass_Potential.ipynb\u001b[m\n",
      "\n",
      "Untracked files:\n",
      "  (use \"git add <file>...\" to include in what will be committed)\n",
      "\t\u001b[31m../data/gce-position-dR_eq_2.0.npz\u001b[m\n",
      "\t\u001b[31m../data/gce-position-dR_eq_3.0.npz\u001b[m\n",
      "\t\u001b[31m../data/gce-position-dR_eq_4.0.npz\u001b[m\n",
      "\t\u001b[31mLinePotential.ipynb\u001b[m\n",
      "\t\u001b[31mReduceData.ipynb\u001b[m\n",
      "\t\u001b[31mUntitled.ipynb\u001b[m\n",
      "\t\u001b[31mbkup/\u001b[m\n",
      "\n",
      "no changes added to commit (use \"git add\" and/or \"git commit -a\")\n"
     ]
    }
   ],
   "source": [
    "!git status"
   ]
  },
  {
   "cell_type": "code",
   "execution_count": 3,
   "id": "9280bfb5-c9fe-493d-9aee-13b472cb004c",
   "metadata": {},
   "outputs": [
    {
     "name": "stdout",
     "output_type": "stream",
     "text": [
      "-rw-r--r-- 1 agdelma tug2384 2.0M Feb 28 14:40 DensityAnalysis.ipynb\n"
     ]
    }
   ],
   "source": [
    "!ls -lth DensityAnalysis.ipynb"
   ]
  },
  {
   "cell_type": "code",
   "execution_count": null,
   "id": "18f5fffe-95bd-4028-ad54-256ab03f660b",
   "metadata": {},
   "outputs": [],
   "source": []
  }
 ],
 "metadata": {
  "kernelspec": {
   "display_name": "Python 3 (pimc)",
   "language": "python",
   "name": "pimc"
  },
  "language_info": {
   "codemirror_mode": {
    "name": "ipython",
    "version": 3
   },
   "file_extension": ".py",
   "mimetype": "text/x-python",
   "name": "python",
   "nbconvert_exporter": "python",
   "pygments_lexer": "ipython3",
   "version": "3.9.16"
  }
 },
 "nbformat": 4,
 "nbformat_minor": 5
}
