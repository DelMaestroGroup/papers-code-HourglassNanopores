{
 "cells": [
  {
   "cell_type": "markdown",
   "id": "b2a699db-1dfd-476a-b37c-8976e927a7ce",
   "metadata": {},
   "source": [
    "# Download Raw QMC Data\n",
    "\n",
    "The raw (unprocessed) QMC data can be found online at:\n",
    "\n",
    "[![DOI](https://zenodo.org/badge/DOI/10.5281/zenodo.13743089.svg)](https://doi.org/10.5281/zenodo.13743089)\n",
    "\n",
    "All processed/reduced data files necessary for producing plots in the paper are included in the repository at `../data`.  However, you can run the code below to download the data for local processing via the `pimcscripts` module.  After decompression this constitutes about `200GB` of data.\n",
    "\n",
    "Requires installation of the [zenodo_get](https://github.com/dvolgyes/zenodo_get/) package."
   ]
  },
  {
   "cell_type": "code",
   "execution_count": null,
   "id": "ba757b1f-63ac-4ffb-9868-12c17a98350a",
   "metadata": {},
   "outputs": [],
   "source": [
    "import hg_utils"
   ]
  },
  {
   "cell_type": "markdown",
   "id": "1ca17fad-6b07-4c1c-9f23-456088ff156b",
   "metadata": {},
   "source": [
    "## Download the raw data from zenodo"
   ]
  },
  {
   "cell_type": "code",
   "execution_count": null,
   "id": "dbed29f1-24a9-4bbc-9f77-f9a8ce51937c",
   "metadata": {},
   "outputs": [],
   "source": [
    "!mkdir ../data/raw\n",
    "!zenodo_get --doi=10.5281/zenodo.13743089 --output-dir=\"../data\""
   ]
  },
  {
   "cell_type": "markdown",
   "id": "328bba21-015a-4523-b2f3-a8e15c13056f",
   "metadata": {},
   "source": [
    "## Decompress in the `../data` directory"
   ]
  },
  {
   "cell_type": "code",
   "execution_count": null,
   "id": "1176c930-23cd-4d26-ab02-b13d7605f4a0",
   "metadata": {},
   "outputs": [],
   "source": [
    "for cΔR in [0.0,2.0,3.0,4.0]:\n",
    "    dirName = f'../data/{hg_utils.lab(cΔR)}.tar.gz'\n",
    "    !tar -xzf $dirName -C \"../data/\""
   ]
  }
 ],
 "metadata": {
  "kernelspec": {
   "display_name": "Python 3 (ipykernel)",
   "language": "python",
   "name": "python3"
  },
  "language_info": {
   "codemirror_mode": {
    "name": "ipython",
    "version": 3
   },
   "file_extension": ".py",
   "mimetype": "text/x-python",
   "name": "python",
   "nbconvert_exporter": "python",
   "pygments_lexer": "ipython3",
   "version": "3.9.19"
  }
 },
 "nbformat": 4,
 "nbformat_minor": 5
}
